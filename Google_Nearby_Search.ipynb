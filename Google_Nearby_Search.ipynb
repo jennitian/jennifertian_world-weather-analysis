{
 "cells": [
  {
   "cell_type": "code",
   "execution_count": 1,
   "metadata": {},
   "outputs": [],
   "source": [
    "import requests\n",
    "import gmaps\n",
    "\n",
    "# Import API key\n",
    "from config import g_key"
   ]
  },
  {
   "cell_type": "code",
   "execution_count": 2,
   "metadata": {},
   "outputs": [],
   "source": [
    "params = {\n",
    "    \"radius\": 5000,\n",
    "    \"types\": \"lodging\",\n",
    "    \"key\": g_key,\n",
    "    \"location\": \"48.8566, 2.3522\"}\n",
    "# Use base URL to search for hotels in Paris.\n",
    "base_url = \"https://maps.googleapis.com/maps/api/place/nearbysearch/json\"\n",
    "# Make request and get the JSON data from the search.\n",
    "hotels = requests.get(base_url, params=params).json()"
   ]
  },
  {
   "cell_type": "code",
   "execution_count": 5,
   "metadata": {},
   "outputs": [
    {
     "data": {
      "text/plain": [
       "{'geometry': {'location': {'lat': 48.8581126, 'lng': 2.3529277},\n",
       "  'viewport': {'northeast': {'lat': 48.8594402302915,\n",
       "    'lng': 2.354348530291502},\n",
       "   'southwest': {'lat': 48.8567422697085, 'lng': 2.351650569708498}}},\n",
       " 'icon': 'https://maps.gstatic.com/mapfiles/place_api/icons/lodging-71.png',\n",
       " 'id': '7fa47cb61d7345cecc3b802d0e04fcff2b3d5ecb',\n",
       " 'name': 'Hôtel Duo',\n",
       " 'opening_hours': {'open_now': True},\n",
       " 'photos': [{'height': 3840,\n",
       "   'html_attributions': ['<a href=\"https://maps.google.com/maps/contrib/107554201425443337224/photos\">Hôtel Duo</a>'],\n",
       "   'photo_reference': 'CmRaAAAAdKzhVT6Wc9OpbchXMIzvV6_1NOIeWWZrMlUh03FGseKPrKzUkg0tkm4JVuZnuh5hnL5y7o6T4XYqxtdojWd2wik7DUvk_ciocDYQZR9YMd47l-6mDejLW8AjBuefeSnNEhD200C7WdbMV43Y7dqYvVkjGhTlMM4zPbM1fnw_ItpEsTK57lep0Q',\n",
       "   'width': 5760}],\n",
       " 'place_id': 'ChIJWU9CqB1u5kcR5P1F2SMoJmc',\n",
       " 'plus_code': {'compound_code': 'V953+65 Paris, France',\n",
       "  'global_code': '8FW4V953+65'},\n",
       " 'rating': 4.199999999999999,\n",
       " 'reference': 'ChIJWU9CqB1u5kcR5P1F2SMoJmc',\n",
       " 'scope': 'GOOGLE',\n",
       " 'types': ['night_club',\n",
       "  'spa',\n",
       "  'lodging',\n",
       "  'bar',\n",
       "  'gym',\n",
       "  'health',\n",
       "  'point_of_interest',\n",
       "  'establishment'],\n",
       " 'user_ratings_total': 242,\n",
       " 'vicinity': '11 Rue du Temple, Paris'}"
      ]
     },
     "execution_count": 5,
     "metadata": {},
     "output_type": "execute_result"
    }
   ],
   "source": [
    "hotels[\"results\"][0]"
   ]
  },
  {
   "cell_type": "code",
   "execution_count": null,
   "metadata": {},
   "outputs": [],
   "source": []
  }
 ],
 "metadata": {
  "kernelspec": {
   "display_name": "Python 3",
   "language": "python",
   "name": "python3"
  },
  "language_info": {
   "codemirror_mode": {
    "name": "ipython",
    "version": 3
   },
   "file_extension": ".py",
   "mimetype": "text/x-python",
   "name": "python",
   "nbconvert_exporter": "python",
   "pygments_lexer": "ipython3",
   "version": "3.6.9"
  }
 },
 "nbformat": 4,
 "nbformat_minor": 2
}
